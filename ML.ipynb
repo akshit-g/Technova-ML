{
 "cells": [
  {
   "cell_type": "code",
   "execution_count": null,
   "metadata": {},
   "outputs": [],
   "source": [
    "#Pandas\n",
    "\n",
    "import pandas as pd\n",
    "\n",
    "temp = [['Akshit', 99.5, \"Male\"], ['Dikshant', 102.7, \"Female\"],\n",
    "\t['Ananya', 97.1, \"Female\"], ['Mudit', 100.2, \"Male\"]]\n",
    "\n",
    "df = pd.DataFrame(temp, columns=['Name', 'Temperature', 'Sex'])\n",
    "\n",
    "print(df)"
   ]
  },
  {
   "cell_type": "code",
   "execution_count": null,
   "metadata": {},
   "outputs": [],
   "source": [
    "# NumPy\n",
    "\n",
    "import numpy as np\n",
    "\n",
    "marks_array = np.array([[63, 66, 65],\n",
    "                        [23, 76, 91],\n",
    "                        [81, 44, 52]])\n",
    "\n",
    "print(np.shape(marks_array))\n",
    "print(marks_array)"
   ]
  },
  {
   "cell_type": "code",
   "execution_count": null,
   "metadata": {},
   "outputs": [],
   "source": [
    "# Importing libraries\n",
    "import numpy as np\n",
    "import pandas as pd\n",
    "\n",
    "# Creating a dummy dataframe\n",
    "df = pd.read_csv(\"data.csv\")\n",
    "print(df)"
   ]
  },
  {
   "cell_type": "code",
   "execution_count": null,
   "metadata": {},
   "outputs": [],
   "source": [
    "# Checking null values\n",
    "df.isnull()"
   ]
  },
  {
   "cell_type": "code",
   "execution_count": null,
   "metadata": {},
   "outputs": [],
   "source": [
    "# Displaying the count of null values per column\n",
    "df.isnull().sum()"
   ]
  },
  {
   "cell_type": "code",
   "execution_count": null,
   "metadata": {},
   "outputs": [],
   "source": [
    "# Dropping the row having null value\n",
    "df.dropna()"
   ]
  },
  {
   "cell_type": "code",
   "execution_count": null,
   "metadata": {},
   "outputs": [],
   "source": [
    "print(df)"
   ]
  },
  {
   "cell_type": "code",
   "execution_count": null,
   "metadata": {},
   "outputs": [],
   "source": [
    "# Imputation\n",
    "\n",
    "from sklearn.impute import SimpleImputer\n",
    "imputer = SimpleImputer(missing_values=np.nan, strategy='mean')\n",
    "imputer = imputer.fit(df[['Marks']])\n",
    "df['Marks'] = imputer.transform(df[['Marks']])\n",
    "\n",
    "print(df)\n",
    "\n",
    "# df.fillna(df.mean()) can also be used"
   ]
  },
  {
   "cell_type": "code",
   "execution_count": null,
   "metadata": {},
   "outputs": [],
   "source": [
    "# Standardization\n",
    "\n",
    "# from sklearn.preprocessing import StandardScaler\n",
    "# If we had two numerical columns we would have standardized them so that they are on the same scale\n",
    "# std = StandardScaler()\n",
    "# X = std.fit_transform(df[['Age','Weight']])"
   ]
  },
  {
   "cell_type": "code",
   "execution_count": null,
   "metadata": {},
   "outputs": [],
   "source": [
    "# Dealing with Categorical Values\n",
    "\n",
    "# with map function\n",
    "# size_mapping = {'M':1,'L':2}\n",
    "# df['size'] = df['size'].map(size_mapping)\n",
    "\n",
    "# with label encoder\n",
    "from sklearn.preprocessing import LabelEncoder\n",
    "class_le = LabelEncoder()\n",
    "df['Gender'] = class_le.fit_transform(df['Gender'].values)\n",
    "print(df)"
   ]
  },
  {
   "cell_type": "code",
   "execution_count": null,
   "metadata": {},
   "outputs": [],
   "source": [
    "# EDA\n",
    "\n",
    "df.info()"
   ]
  },
  {
   "cell_type": "code",
   "execution_count": null,
   "metadata": {},
   "outputs": [],
   "source": [
    "df.describe()"
   ]
  },
  {
   "cell_type": "code",
   "execution_count": null,
   "metadata": {},
   "outputs": [],
   "source": [
    "corrp = df.corr()\n",
    "print(corrp)"
   ]
  }
 ],
 "metadata": {
  "kernelspec": {
   "display_name": "Python 3",
   "language": "python",
   "name": "python3"
  },
  "language_info": {
   "codemirror_mode": {
    "name": "ipython",
    "version": 3
   },
   "file_extension": ".py",
   "mimetype": "text/x-python",
   "name": "python",
   "nbconvert_exporter": "python",
   "pygments_lexer": "ipython3",
   "version": "3.10.1 (tags/v3.10.1:2cd268a, Dec  6 2021, 19:10:37) [MSC v.1929 64 bit (AMD64)]"
  },
  "orig_nbformat": 4,
  "vscode": {
   "interpreter": {
    "hash": "a8d0b99760ce0cd8abb92070f34fc7e94ce9b802ba9e7fb363af83bb4d5ed8cf"
   }
  }
 },
 "nbformat": 4,
 "nbformat_minor": 2
}
